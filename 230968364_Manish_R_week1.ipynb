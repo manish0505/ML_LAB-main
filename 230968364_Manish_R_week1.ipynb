{
 "cells": [
  {
   "cell_type": "markdown",
   "id": "e471f572",
   "metadata": {},
   "source": [
    "## 230968364 week1"
   ]
  },
  {
   "cell_type": "code",
   "execution_count": 1,
   "id": "06d16251",
   "metadata": {},
   "outputs": [
    {
     "data": {
      "text/html": [
       "<div>\n",
       "<style scoped>\n",
       "    .dataframe tbody tr th:only-of-type {\n",
       "        vertical-align: middle;\n",
       "    }\n",
       "\n",
       "    .dataframe tbody tr th {\n",
       "        vertical-align: top;\n",
       "    }\n",
       "\n",
       "    .dataframe thead th {\n",
       "        text-align: right;\n",
       "    }\n",
       "</style>\n",
       "<table border=\"1\" class=\"dataframe\">\n",
       "  <thead>\n",
       "    <tr style=\"text-align: right;\">\n",
       "      <th></th>\n",
       "      <th>Date</th>\n",
       "      <th>Product Name</th>\n",
       "      <th>Units Sold</th>\n",
       "      <th>Revenue</th>\n",
       "      <th>Region</th>\n",
       "      <th>Discount Offered (%)</th>\n",
       "      <th>Salesperson</th>\n",
       "    </tr>\n",
       "  </thead>\n",
       "  <tbody>\n",
       "    <tr>\n",
       "      <th>0</th>\n",
       "      <td>2025-01-01</td>\n",
       "      <td>Product A</td>\n",
       "      <td>10</td>\n",
       "      <td>1000</td>\n",
       "      <td>North</td>\n",
       "      <td>5</td>\n",
       "      <td>Alice</td>\n",
       "    </tr>\n",
       "    <tr>\n",
       "      <th>1</th>\n",
       "      <td>2025-01-02</td>\n",
       "      <td>Product B</td>\n",
       "      <td>20</td>\n",
       "      <td>2000</td>\n",
       "      <td>South</td>\n",
       "      <td>10</td>\n",
       "      <td>Bob</td>\n",
       "    </tr>\n",
       "    <tr>\n",
       "      <th>2</th>\n",
       "      <td>2025-01-03</td>\n",
       "      <td>Product C</td>\n",
       "      <td>15</td>\n",
       "      <td>1500</td>\n",
       "      <td>East</td>\n",
       "      <td>15</td>\n",
       "      <td>Charlie</td>\n",
       "    </tr>\n",
       "    <tr>\n",
       "      <th>3</th>\n",
       "      <td>2025-01-04</td>\n",
       "      <td>Product D</td>\n",
       "      <td>30</td>\n",
       "      <td>3000</td>\n",
       "      <td>West</td>\n",
       "      <td>20</td>\n",
       "      <td>David</td>\n",
       "    </tr>\n",
       "    <tr>\n",
       "      <th>4</th>\n",
       "      <td>2025-01-05</td>\n",
       "      <td>Product E</td>\n",
       "      <td>25</td>\n",
       "      <td>2500</td>\n",
       "      <td>North</td>\n",
       "      <td>25</td>\n",
       "      <td>Eve</td>\n",
       "    </tr>\n",
       "    <tr>\n",
       "      <th>5</th>\n",
       "      <td>2025-01-06</td>\n",
       "      <td>Product A</td>\n",
       "      <td>18</td>\n",
       "      <td>1800</td>\n",
       "      <td>South</td>\n",
       "      <td>5</td>\n",
       "      <td>Alice</td>\n",
       "    </tr>\n",
       "    <tr>\n",
       "      <th>6</th>\n",
       "      <td>2025-01-07</td>\n",
       "      <td>Product B</td>\n",
       "      <td>22</td>\n",
       "      <td>2200</td>\n",
       "      <td>East</td>\n",
       "      <td>10</td>\n",
       "      <td>Bob</td>\n",
       "    </tr>\n",
       "    <tr>\n",
       "      <th>7</th>\n",
       "      <td>2025-01-08</td>\n",
       "      <td>Product C</td>\n",
       "      <td>17</td>\n",
       "      <td>1700</td>\n",
       "      <td>West</td>\n",
       "      <td>15</td>\n",
       "      <td>Charlie</td>\n",
       "    </tr>\n",
       "    <tr>\n",
       "      <th>8</th>\n",
       "      <td>2025-01-09</td>\n",
       "      <td>Product D</td>\n",
       "      <td>14</td>\n",
       "      <td>1400</td>\n",
       "      <td>North</td>\n",
       "      <td>20</td>\n",
       "      <td>David</td>\n",
       "    </tr>\n",
       "    <tr>\n",
       "      <th>9</th>\n",
       "      <td>2025-01-10</td>\n",
       "      <td>Product E</td>\n",
       "      <td>28</td>\n",
       "      <td>2800</td>\n",
       "      <td>South</td>\n",
       "      <td>25</td>\n",
       "      <td>Eve</td>\n",
       "    </tr>\n",
       "    <tr>\n",
       "      <th>10</th>\n",
       "      <td>2025-01-11</td>\n",
       "      <td>Product A</td>\n",
       "      <td>12</td>\n",
       "      <td>1200</td>\n",
       "      <td>East</td>\n",
       "      <td>5</td>\n",
       "      <td>Alice</td>\n",
       "    </tr>\n",
       "    <tr>\n",
       "      <th>11</th>\n",
       "      <td>2025-01-12</td>\n",
       "      <td>Product B</td>\n",
       "      <td>19</td>\n",
       "      <td>1900</td>\n",
       "      <td>West</td>\n",
       "      <td>10</td>\n",
       "      <td>Bob</td>\n",
       "    </tr>\n",
       "    <tr>\n",
       "      <th>12</th>\n",
       "      <td>2025-01-13</td>\n",
       "      <td>Product C</td>\n",
       "      <td>23</td>\n",
       "      <td>2300</td>\n",
       "      <td>North</td>\n",
       "      <td>15</td>\n",
       "      <td>Charlie</td>\n",
       "    </tr>\n",
       "    <tr>\n",
       "      <th>13</th>\n",
       "      <td>2025-01-14</td>\n",
       "      <td>Product D</td>\n",
       "      <td>21</td>\n",
       "      <td>2100</td>\n",
       "      <td>South</td>\n",
       "      <td>20</td>\n",
       "      <td>David</td>\n",
       "    </tr>\n",
       "    <tr>\n",
       "      <th>14</th>\n",
       "      <td>2025-01-15</td>\n",
       "      <td>Product E</td>\n",
       "      <td>16</td>\n",
       "      <td>1600</td>\n",
       "      <td>East</td>\n",
       "      <td>25</td>\n",
       "      <td>Eve</td>\n",
       "    </tr>\n",
       "    <tr>\n",
       "      <th>15</th>\n",
       "      <td>2025-01-16</td>\n",
       "      <td>Product A</td>\n",
       "      <td>24</td>\n",
       "      <td>2400</td>\n",
       "      <td>West</td>\n",
       "      <td>5</td>\n",
       "      <td>Alice</td>\n",
       "    </tr>\n",
       "    <tr>\n",
       "      <th>16</th>\n",
       "      <td>2025-01-17</td>\n",
       "      <td>Product B</td>\n",
       "      <td>26</td>\n",
       "      <td>2600</td>\n",
       "      <td>North</td>\n",
       "      <td>10</td>\n",
       "      <td>Bob</td>\n",
       "    </tr>\n",
       "    <tr>\n",
       "      <th>17</th>\n",
       "      <td>2025-01-18</td>\n",
       "      <td>Product C</td>\n",
       "      <td>13</td>\n",
       "      <td>1300</td>\n",
       "      <td>South</td>\n",
       "      <td>15</td>\n",
       "      <td>Charlie</td>\n",
       "    </tr>\n",
       "    <tr>\n",
       "      <th>18</th>\n",
       "      <td>2025-01-19</td>\n",
       "      <td>Product D</td>\n",
       "      <td>11</td>\n",
       "      <td>1100</td>\n",
       "      <td>East</td>\n",
       "      <td>20</td>\n",
       "      <td>David</td>\n",
       "    </tr>\n",
       "    <tr>\n",
       "      <th>19</th>\n",
       "      <td>2025-01-20</td>\n",
       "      <td>Product E</td>\n",
       "      <td>27</td>\n",
       "      <td>2700</td>\n",
       "      <td>West</td>\n",
       "      <td>25</td>\n",
       "      <td>Eve</td>\n",
       "    </tr>\n",
       "  </tbody>\n",
       "</table>\n",
       "</div>"
      ],
      "text/plain": [
       "         Date Product Name  Units Sold  Revenue Region  Discount Offered (%)  \\\n",
       "0  2025-01-01    Product A          10     1000  North                     5   \n",
       "1  2025-01-02    Product B          20     2000  South                    10   \n",
       "2  2025-01-03    Product C          15     1500   East                    15   \n",
       "3  2025-01-04    Product D          30     3000   West                    20   \n",
       "4  2025-01-05    Product E          25     2500  North                    25   \n",
       "5  2025-01-06    Product A          18     1800  South                     5   \n",
       "6  2025-01-07    Product B          22     2200   East                    10   \n",
       "7  2025-01-08    Product C          17     1700   West                    15   \n",
       "8  2025-01-09    Product D          14     1400  North                    20   \n",
       "9  2025-01-10    Product E          28     2800  South                    25   \n",
       "10 2025-01-11    Product A          12     1200   East                     5   \n",
       "11 2025-01-12    Product B          19     1900   West                    10   \n",
       "12 2025-01-13    Product C          23     2300  North                    15   \n",
       "13 2025-01-14    Product D          21     2100  South                    20   \n",
       "14 2025-01-15    Product E          16     1600   East                    25   \n",
       "15 2025-01-16    Product A          24     2400   West                     5   \n",
       "16 2025-01-17    Product B          26     2600  North                    10   \n",
       "17 2025-01-18    Product C          13     1300  South                    15   \n",
       "18 2025-01-19    Product D          11     1100   East                    20   \n",
       "19 2025-01-20    Product E          27     2700   West                    25   \n",
       "\n",
       "   Salesperson  \n",
       "0        Alice  \n",
       "1          Bob  \n",
       "2      Charlie  \n",
       "3        David  \n",
       "4          Eve  \n",
       "5        Alice  \n",
       "6          Bob  \n",
       "7      Charlie  \n",
       "8        David  \n",
       "9          Eve  \n",
       "10       Alice  \n",
       "11         Bob  \n",
       "12     Charlie  \n",
       "13       David  \n",
       "14         Eve  \n",
       "15       Alice  \n",
       "16         Bob  \n",
       "17     Charlie  \n",
       "18       David  \n",
       "19         Eve  "
      ]
     },
     "execution_count": 1,
     "metadata": {},
     "output_type": "execute_result"
    }
   ],
   "source": [
    "import pandas as pd\n",
    "\n",
    "data = {\n",
    "    'Date': pd.date_range(start='2025-01-01', end='2025-01-20'),\n",
    "    'Product Name': ['Product A', 'Product B', 'Product C', 'Product D', 'Product E'] * 4,\n",
    "    'Units Sold': [10, 20, 15, 30, 25, 18, 22, 17, 14, 28, 12, 19, 23, 21, 16, 24, 26, 13, 11, 27],\n",
    "    'Revenue': [1000, 2000, 1500, 3000, 2500, 1800, 2200, 1700, 1400, 2800, 1200, 1900, 2300, 2100, 1600, 2400, 2600, 1300, 1100, 2700],\n",
    "    'Region': ['North', 'South', 'East', 'West', 'North', 'South', 'East', 'West', 'North', 'South', 'East', 'West', 'North', 'South', 'East', 'West', 'North', 'South', 'East', 'West'],\n",
    "    'Discount Offered (%)': [5, 10, 15, 20, 25, 5, 10, 15, 20, 25, 5, 10, 15, 20, 25, 5, 10, 15, 20, 25],\n",
    "    'Salesperson': ['Alice', 'Bob', 'Charlie', 'David', 'Eve', 'Alice', 'Bob', 'Charlie', 'David', 'Eve', 'Alice', 'Bob', 'Charlie', 'David', 'Eve', 'Alice', 'Bob', 'Charlie', 'David', 'Eve']\n",
    "}\n",
    "\n",
    "df = pd.DataFrame(data)\n",
    "df\n"
   ]
  },
  {
   "cell_type": "markdown",
   "id": "1b0c7576",
   "metadata": {},
   "source": [
    "### 1.\tWhat are the top 3 sales transactions with the highest revenue?"
   ]
  },
  {
   "cell_type": "code",
   "execution_count": 21,
   "id": "304d8fce",
   "metadata": {},
   "outputs": [
    {
     "data": {
      "text/html": [
       "<div>\n",
       "<style scoped>\n",
       "    .dataframe tbody tr th:only-of-type {\n",
       "        vertical-align: middle;\n",
       "    }\n",
       "\n",
       "    .dataframe tbody tr th {\n",
       "        vertical-align: top;\n",
       "    }\n",
       "\n",
       "    .dataframe thead th {\n",
       "        text-align: right;\n",
       "    }\n",
       "</style>\n",
       "<table border=\"1\" class=\"dataframe\">\n",
       "  <thead>\n",
       "    <tr style=\"text-align: right;\">\n",
       "      <th></th>\n",
       "      <th>Date</th>\n",
       "      <th>Product Name</th>\n",
       "      <th>Units Sold</th>\n",
       "      <th>Revenue</th>\n",
       "      <th>Region</th>\n",
       "      <th>Discount Offered (%)</th>\n",
       "      <th>Salesperson</th>\n",
       "      <th>discount</th>\n",
       "      <th>Revenue per Unit</th>\n",
       "      <th>Revenue After Discount</th>\n",
       "      <th>Cumulative Revenue</th>\n",
       "      <th>Rank</th>\n",
       "      <th>Cumulative Product Revenue</th>\n",
       "      <th>Weighted Discount</th>\n",
       "    </tr>\n",
       "  </thead>\n",
       "  <tbody>\n",
       "    <tr>\n",
       "      <th>3</th>\n",
       "      <td>2025-01-04</td>\n",
       "      <td>Product D</td>\n",
       "      <td>30</td>\n",
       "      <td>3000</td>\n",
       "      <td>West</td>\n",
       "      <td>20</td>\n",
       "      <td>David</td>\n",
       "      <td>2400.0</td>\n",
       "      <td>100.0</td>\n",
       "      <td>2400.0</td>\n",
       "      <td>3000</td>\n",
       "      <td>1.0</td>\n",
       "      <td>3000</td>\n",
       "      <td>1.534527</td>\n",
       "    </tr>\n",
       "    <tr>\n",
       "      <th>9</th>\n",
       "      <td>2025-01-10</td>\n",
       "      <td>Product E</td>\n",
       "      <td>28</td>\n",
       "      <td>2800</td>\n",
       "      <td>South</td>\n",
       "      <td>25</td>\n",
       "      <td>Eve</td>\n",
       "      <td>2100.0</td>\n",
       "      <td>100.0</td>\n",
       "      <td>2100.0</td>\n",
       "      <td>5300</td>\n",
       "      <td>1.0</td>\n",
       "      <td>2800</td>\n",
       "      <td>1.790281</td>\n",
       "    </tr>\n",
       "    <tr>\n",
       "      <th>19</th>\n",
       "      <td>2025-01-20</td>\n",
       "      <td>Product E</td>\n",
       "      <td>27</td>\n",
       "      <td>2700</td>\n",
       "      <td>West</td>\n",
       "      <td>25</td>\n",
       "      <td>Eve</td>\n",
       "      <td>2025.0</td>\n",
       "      <td>100.0</td>\n",
       "      <td>2025.0</td>\n",
       "      <td>9600</td>\n",
       "      <td>2.0</td>\n",
       "      <td>2700</td>\n",
       "      <td>1.726343</td>\n",
       "    </tr>\n",
       "  </tbody>\n",
       "</table>\n",
       "</div>"
      ],
      "text/plain": [
       "         Date Product Name  Units Sold  Revenue Region  Discount Offered (%)  \\\n",
       "3  2025-01-04    Product D          30     3000   West                    20   \n",
       "9  2025-01-10    Product E          28     2800  South                    25   \n",
       "19 2025-01-20    Product E          27     2700   West                    25   \n",
       "\n",
       "   Salesperson  discount  Revenue per Unit  Revenue After Discount  \\\n",
       "3        David    2400.0             100.0                  2400.0   \n",
       "9          Eve    2100.0             100.0                  2100.0   \n",
       "19         Eve    2025.0             100.0                  2025.0   \n",
       "\n",
       "    Cumulative Revenue  Rank  Cumulative Product Revenue  Weighted Discount  \n",
       "3                 3000   1.0                        3000           1.534527  \n",
       "9                 5300   1.0                        2800           1.790281  \n",
       "19                9600   2.0                        2700           1.726343  "
      ]
     },
     "execution_count": 21,
     "metadata": {},
     "output_type": "execute_result"
    }
   ],
   "source": [
    "top_3_sales = df.sort_values(by='Revenue', ascending=False).head(3)\n",
    "top_3_sales"
   ]
  },
  {
   "cell_type": "markdown",
   "id": "1ca3d6c1",
   "metadata": {},
   "source": [
    "### 2.\tHow many units of each product were sold? "
   ]
  },
  {
   "cell_type": "code",
   "execution_count": 3,
   "id": "8f930fc0",
   "metadata": {},
   "outputs": [
    {
     "data": {
      "text/plain": [
       "Product Name\n",
       "Product A    64\n",
       "Product B    87\n",
       "Product C    68\n",
       "Product D    76\n",
       "Product E    96\n",
       "Name: Units Sold, dtype: int64"
      ]
     },
     "execution_count": 3,
     "metadata": {},
     "output_type": "execute_result"
    }
   ],
   "source": [
    "unit_sold=df.groupby('Product Name')['Units Sold'].sum()\n",
    "unit_sold"
   ]
  },
  {
   "cell_type": "markdown",
   "id": "e6fccb1f",
   "metadata": {},
   "source": [
    "### 3.\tWhat is the total revenue after applying discounts "
   ]
  },
  {
   "cell_type": "code",
   "execution_count": 4,
   "id": "fd7a5519",
   "metadata": {},
   "outputs": [
    {
     "name": "stdout",
     "output_type": "stream",
     "text": [
      "After applying discount the total revenue is 32970.0\n"
     ]
    }
   ],
   "source": [
    "df['discount']=df['Revenue']-(df['Revenue']*df['Discount Offered (%)']/100)\n",
    "total_discount=df['discount'].sum()\n",
    "print(f\"After applying discount the total revenue is {total_discount}\")"
   ]
  },
  {
   "cell_type": "markdown",
   "id": "78158922",
   "metadata": {},
   "source": [
    "### 4.\tWhich sales transaction had the highest discount offered, and how much revenue did it generate after applying the discount? "
   ]
  },
  {
   "cell_type": "code",
   "execution_count": 5,
   "id": "6f9a833a",
   "metadata": {},
   "outputs": [
    {
     "name": "stdout",
     "output_type": "stream",
     "text": [
      "The sale transaction had the highest discount offered is Date                    2025-01-05 00:00:00\n",
      "Product Name                      Product E\n",
      "Units Sold                               25\n",
      "Revenue                                2500\n",
      "Region                                North\n",
      "Discount Offered (%)                     25\n",
      "Salesperson                             Eve\n",
      "discount                             1875.0\n",
      "Name: 4, dtype: object\n",
      "Revenue generate after applying Discount is 1875.0\n"
     ]
    }
   ],
   "source": [
    "high_disc=df.loc[df['Discount Offered (%)'].idxmax()]\n",
    "print(f\"The sale transaction had the highest discount offered is {high_disc}\")\n",
    "disc_rev=high_disc['Revenue']-(high_disc['Revenue']*high_disc['Discount Offered (%)']/100)\n",
    "print(f\"Revenue generate after applying Discount is {disc_rev}\")"
   ]
  },
  {
   "cell_type": "markdown",
   "id": "f964ee5d",
   "metadata": {},
   "source": [
    "### 5. Which salesperson generated the highest total revenue?"
   ]
  },
  {
   "cell_type": "code",
   "execution_count": 6,
   "id": "d02fca35",
   "metadata": {},
   "outputs": [
    {
     "name": "stdout",
     "output_type": "stream",
     "text": [
      "The salesperson who generated the highest total revenue is Eve with a revenue of 9600.\n"
     ]
    }
   ],
   "source": [
    "top_salesperson = df.groupby('Salesperson')['Revenue'].sum().idxmax()\n",
    "highest_revenue = df.groupby('Salesperson')['Revenue'].sum().max()\n",
    "\n",
    "print(f\"The salesperson who generated the highest total revenue is {top_salesperson} with a revenue of {highest_revenue}.\")"
   ]
  },
  {
   "cell_type": "markdown",
   "id": "fc4f380e",
   "metadata": {},
   "source": [
    "### 6. What is the average discount offered by each salesperson?"
   ]
  },
  {
   "cell_type": "code",
   "execution_count": 7,
   "id": "e3ba473e",
   "metadata": {},
   "outputs": [
    {
     "name": "stdout",
     "output_type": "stream",
     "text": [
      "Average Discount Offered by Each Salesperson:\n",
      "Salesperson\n",
      "Alice       5.0\n",
      "Bob        10.0\n",
      "Charlie    15.0\n",
      "David      20.0\n",
      "Eve        25.0\n",
      "Name: Discount Offered (%), dtype: float64\n"
     ]
    }
   ],
   "source": [
    "avg_discount = df.groupby('Salesperson')['Discount Offered (%)'].mean()\n",
    "print(\"Average Discount Offered by Each Salesperson:\")\n",
    "print(avg_discount)"
   ]
  },
  {
   "cell_type": "markdown",
   "id": "be69e8e0",
   "metadata": {},
   "source": [
    "### 7. How much revenue was generated in each region?"
   ]
  },
  {
   "cell_type": "code",
   "execution_count": 8,
   "id": "62b16c7a",
   "metadata": {},
   "outputs": [
    {
     "name": "stdout",
     "output_type": "stream",
     "text": [
      "Revenue Generated in Each Region:\n",
      "Region\n",
      "East      7600\n",
      "North     9800\n",
      "South    10000\n",
      "West     11700\n",
      "Name: Revenue, dtype: int64\n"
     ]
    }
   ],
   "source": [
    "region_revenue = df.groupby('Region')['Revenue'].sum()\n",
    "print(\"Revenue Generated in Each Region:\")\n",
    "print(region_revenue)"
   ]
  },
  {
   "cell_type": "markdown",
   "id": "092da80c",
   "metadata": {},
   "source": [
    "### 8. In which region did Alice generate the highest sales?"
   ]
  },
  {
   "cell_type": "code",
   "execution_count": 9,
   "id": "b1b8b5b9",
   "metadata": {},
   "outputs": [
    {
     "name": "stdout",
     "output_type": "stream",
     "text": [
      "Alice generated the highest sales in West with a revenue of 2400.\n"
     ]
    }
   ],
   "source": [
    "alice_sales = df[df['Salesperson'] == 'Alice'].groupby('Region')['Revenue'].sum()\n",
    "top_region = alice_sales.idxmax()\n",
    "highest_sales = alice_sales.max()\n",
    "\n",
    "print(f\"Alice generated the highest sales in {top_region} with a revenue of {highest_sales}.\")"
   ]
  },
  {
   "cell_type": "markdown",
   "id": "4a8d37fb",
   "metadata": {},
   "source": [
    "### 9. Which product generated the highest revenue per unit sold?"
   ]
  },
  {
   "cell_type": "code",
   "execution_count": 10,
   "id": "04386473",
   "metadata": {},
   "outputs": [
    {
     "name": "stdout",
     "output_type": "stream",
     "text": [
      "The product that generated the highest revenue per unit sold is Product A.\n"
     ]
    }
   ],
   "source": [
    "df['Revenue per Unit'] = df['Revenue'] / df['Units Sold']\n",
    "highest_revenue_product = df.groupby('Product Name')['Revenue per Unit'].mean().idxmax()\n",
    "\n",
    "print(f\"The product that generated the highest revenue per unit sold is {highest_revenue_product}.\")"
   ]
  },
  {
   "cell_type": "markdown",
   "id": "5a97825d",
   "metadata": {},
   "source": [
    "### 10. How many transactions were rated as \"High\" performance?"
   ]
  },
  {
   "cell_type": "code",
   "execution_count": 11,
   "id": "1adfa239",
   "metadata": {},
   "outputs": [
    {
     "name": "stdout",
     "output_type": "stream",
     "text": [
      "Number of High Performance Transactions: 10\n"
     ]
    }
   ],
   "source": [
    "mean_revenue = df['Revenue'].mean()\n",
    "high_performance_transactions = df[df['Revenue'] > mean_revenue]\n",
    "\n",
    "num_high_performance = len(high_performance_transactions)\n",
    "print(f\"Number of High Performance Transactions: {num_high_performance}\")"
   ]
  },
  {
   "cell_type": "markdown",
   "id": "24d86ca4",
   "metadata": {},
   "source": [
    "### 11. Which salesperson sold the most units in the North region without offering any discount?"
   ]
  },
  {
   "cell_type": "code",
   "execution_count": 12,
   "id": "b8242371",
   "metadata": {},
   "outputs": [
    {
     "name": "stdout",
     "output_type": "stream",
     "text": [
      "No salesperson sold units in the North region without offering any discount.\n"
     ]
    }
   ],
   "source": [
    "no_discount_north = df[(df['Region'] == 'North') & (df['Discount Offered (%)'] == 0)]\n",
    "\n",
    "if no_discount_north.empty:\n",
    "    print(\"No salesperson sold units in the North region without offering any discount.\")\n",
    "else:\n",
    "    top_salesperson_north = no_discount_north.groupby('Salesperson')['Units Sold'].sum().idxmax()\n",
    "    print(f\"The salesperson who sold the most units in the North region without offering any discount is {top_salesperson_north}.\")\n"
   ]
  },
  {
   "cell_type": "markdown",
   "id": "81b668a1",
   "metadata": {},
   "source": [
    "### 12. What is the average revenue per unit sold in each region for each product?"
   ]
  },
  {
   "cell_type": "code",
   "execution_count": 13,
   "id": "6c3639cc",
   "metadata": {},
   "outputs": [
    {
     "name": "stdout",
     "output_type": "stream",
     "text": [
      "Average Revenue per Unit Sold in Each Region for Each Product:\n",
      "Region  Product Name\n",
      "East    Product A       100.0\n",
      "        Product B       100.0\n",
      "        Product C       100.0\n",
      "        Product D       100.0\n",
      "        Product E       100.0\n",
      "North   Product A       100.0\n",
      "        Product B       100.0\n",
      "        Product C       100.0\n",
      "        Product D       100.0\n",
      "        Product E       100.0\n",
      "South   Product A       100.0\n",
      "        Product B       100.0\n",
      "        Product C       100.0\n",
      "        Product D       100.0\n",
      "        Product E       100.0\n",
      "West    Product A       100.0\n",
      "        Product B       100.0\n",
      "        Product C       100.0\n",
      "        Product D       100.0\n",
      "        Product E       100.0\n",
      "dtype: float64\n"
     ]
    }
   ],
   "source": [
    "avg_rev_per_unit = df.groupby(['Region', 'Product Name'])['Revenue'].sum() / df.groupby(['Region', 'Product Name'])['Units Sold'].sum()\n",
    "print(\"Average Revenue per Unit Sold in Each Region for Each Product:\")\n",
    "print(avg_rev_per_unit)"
   ]
  },
  {
   "cell_type": "markdown",
   "id": "04e972f9",
   "metadata": {},
   "source": [
    "### 13. Which salesperson has the highest average revenue after discounts, and how does it compare between regions?"
   ]
  },
  {
   "cell_type": "code",
   "execution_count": 14,
   "id": "e1e66e1e",
   "metadata": {},
   "outputs": [
    {
     "name": "stdout",
     "output_type": "stream",
     "text": [
      "The salesperson with the highest average revenue after discounts is Bob.\n",
      "Comparison of Revenue After Discount by Region:\n",
      "Salesperson  Region\n",
      "Alice        East      1140.0\n",
      "             North      950.0\n",
      "             South     1710.0\n",
      "             West      2280.0\n",
      "Bob          East      1980.0\n",
      "             North     2340.0\n",
      "             South     1800.0\n",
      "             West      1710.0\n",
      "Charlie      East      1275.0\n",
      "             North     1955.0\n",
      "             South     1105.0\n",
      "             West      1445.0\n",
      "David        East       880.0\n",
      "             North     1120.0\n",
      "             South     1680.0\n",
      "             West      2400.0\n",
      "Eve          East      1200.0\n",
      "             North     1875.0\n",
      "             South     2100.0\n",
      "             West      2025.0\n",
      "Name: Revenue After Discount, dtype: float64\n"
     ]
    }
   ],
   "source": [
    "df['Revenue After Discount'] = df['Revenue'] - (df['Revenue'] * df['Discount Offered (%)'] / 100)\n",
    "avg_revenue_per_salesperson = df.groupby('Salesperson')['Revenue After Discount'].mean()\n",
    "top_salesperson = avg_revenue_per_salesperson.idxmax()\n",
    "\n",
    "print(f\"The salesperson with the highest average revenue after discounts is {top_salesperson}.\")\n",
    "print(\"Comparison of Revenue After Discount by Region:\")\n",
    "print(df.groupby(['Salesperson', 'Region'])['Revenue After Discount'].mean())"
   ]
  },
  {
   "cell_type": "markdown",
   "id": "ce95a59c",
   "metadata": {},
   "source": [
    "### 14. What is the cumulative total revenue over time for each salesperson?"
   ]
  },
  {
   "cell_type": "code",
   "execution_count": 15,
   "id": "3c19f453",
   "metadata": {},
   "outputs": [
    {
     "name": "stdout",
     "output_type": "stream",
     "text": [
      "Cumulative Total Revenue Over Time for Each Salesperson:\n",
      "         Date Salesperson  Cumulative Revenue\n",
      "0  2025-01-01       Alice                1000\n",
      "1  2025-01-02         Bob                2000\n",
      "2  2025-01-03     Charlie                1500\n",
      "3  2025-01-04       David                3000\n",
      "4  2025-01-05         Eve                2500\n",
      "5  2025-01-06       Alice                2800\n",
      "6  2025-01-07         Bob                4200\n",
      "7  2025-01-08     Charlie                3200\n",
      "8  2025-01-09       David                4400\n",
      "9  2025-01-10         Eve                5300\n",
      "10 2025-01-11       Alice                4000\n",
      "11 2025-01-12         Bob                6100\n",
      "12 2025-01-13     Charlie                5500\n",
      "13 2025-01-14       David                6500\n",
      "14 2025-01-15         Eve                6900\n",
      "15 2025-01-16       Alice                6400\n",
      "16 2025-01-17         Bob                8700\n",
      "17 2025-01-18     Charlie                6800\n",
      "18 2025-01-19       David                7600\n",
      "19 2025-01-20         Eve                9600\n"
     ]
    }
   ],
   "source": [
    "df['Cumulative Revenue'] = df.groupby('Salesperson')['Revenue'].cumsum()\n",
    "print(\"Cumulative Total Revenue Over Time for Each Salesperson:\")\n",
    "print(df[['Date', 'Salesperson', 'Cumulative Revenue']])"
   ]
  },
  {
   "cell_type": "markdown",
   "id": "d059123c",
   "metadata": {},
   "source": [
    "### 15. For each salesperson, rank the transactions by revenue and find the top 2 transactions for each."
   ]
  },
  {
   "cell_type": "code",
   "execution_count": 16,
   "id": "5a520b36",
   "metadata": {},
   "outputs": [
    {
     "name": "stdout",
     "output_type": "stream",
     "text": [
      "Top 2 Transactions for Each Salesperson:\n",
      "   Salesperson  Revenue  Rank\n",
      "15       Alice     2400   1.0\n",
      "5        Alice     1800   2.0\n",
      "16         Bob     2600   1.0\n",
      "6          Bob     2200   2.0\n",
      "12     Charlie     2300   1.0\n",
      "7      Charlie     1700   2.0\n",
      "3        David     3000   1.0\n",
      "13       David     2100   2.0\n",
      "9          Eve     2800   1.0\n",
      "19         Eve     2700   2.0\n"
     ]
    }
   ],
   "source": [
    "df['Rank'] = df.groupby('Salesperson')['Revenue'].rank(ascending=False, method='dense')\n",
    "top_2_sales = df[df['Rank'] <= 2].sort_values(by=['Salesperson', 'Rank'])\n",
    "\n",
    "print(\"Top 2 Transactions for Each Salesperson:\")\n",
    "print(top_2_sales[['Salesperson', 'Revenue', 'Rank']])"
   ]
  },
  {
   "cell_type": "markdown",
   "id": "ffa9879f",
   "metadata": {},
   "source": [
    "### 16. How has the total revenue generated by each product changed over time? Show cumulative revenue for each product per day."
   ]
  },
  {
   "cell_type": "code",
   "execution_count": 17,
   "id": "7e661651",
   "metadata": {},
   "outputs": [
    {
     "name": "stdout",
     "output_type": "stream",
     "text": [
      "Cumulative Revenue for Each Product Over Time:\n",
      "         Date Product Name  Cumulative Product Revenue\n",
      "0  2025-01-01    Product A                        1000\n",
      "1  2025-01-02    Product B                        2000\n",
      "2  2025-01-03    Product C                        1500\n",
      "3  2025-01-04    Product D                        3000\n",
      "4  2025-01-05    Product E                        2500\n",
      "5  2025-01-06    Product A                        1800\n",
      "6  2025-01-07    Product B                        2200\n",
      "7  2025-01-08    Product C                        1700\n",
      "8  2025-01-09    Product D                        1400\n",
      "9  2025-01-10    Product E                        2800\n",
      "10 2025-01-11    Product A                        1200\n",
      "11 2025-01-12    Product B                        1900\n",
      "12 2025-01-13    Product C                        2300\n",
      "13 2025-01-14    Product D                        2100\n",
      "14 2025-01-15    Product E                        1600\n",
      "15 2025-01-16    Product A                        2400\n",
      "16 2025-01-17    Product B                        2600\n",
      "17 2025-01-18    Product C                        1300\n",
      "18 2025-01-19    Product D                        1100\n",
      "19 2025-01-20    Product E                        2700\n"
     ]
    }
   ],
   "source": [
    "df['Cumulative Product Revenue'] = df.groupby(['Product Name', 'Date'])['Revenue'].cumsum()\n",
    "print(\"Cumulative Revenue for Each Product Over Time:\")\n",
    "print(df[['Date', 'Product Name', 'Cumulative Product Revenue']])"
   ]
  },
  {
   "cell_type": "markdown",
   "id": "30a38daf",
   "metadata": {},
   "source": [
    "### 17. Analyze how discounts affect revenue. What is the average revenue generated with a discount compared to without a discount?"
   ]
  },
  {
   "cell_type": "code",
   "execution_count": 18,
   "id": "6bd21aa6",
   "metadata": {},
   "outputs": [
    {
     "name": "stdout",
     "output_type": "stream",
     "text": [
      "Average Revenue with Discount: 1955.0\n",
      "Average Revenue without Discount: nan\n"
     ]
    }
   ],
   "source": [
    "with_discount = df[df['Discount Offered (%)'] > 0]['Revenue'].mean()\n",
    "without_discount = df[df['Discount Offered (%)'] == 0]['Revenue'].mean()\n",
    "\n",
    "print(f\"Average Revenue with Discount: {with_discount}\")\n",
    "print(f\"Average Revenue without Discount: {without_discount}\")"
   ]
  },
  {
   "cell_type": "markdown",
   "id": "bf4823f9",
   "metadata": {},
   "source": [
    "### 18. What is the weighted average discount offered by each salesperson, weighted by the revenue they generated?"
   ]
  },
  {
   "cell_type": "code",
   "execution_count": 19,
   "id": "b2d6f2d5",
   "metadata": {},
   "outputs": [
    {
     "name": "stdout",
     "output_type": "stream",
     "text": [
      "Weighted Average Discount Offered by Each Salesperson:\n",
      "Salesperson\n",
      "Alice      0.818414\n",
      "Bob        2.225064\n",
      "Charlie    2.608696\n",
      "David      3.887468\n",
      "Eve        6.138107\n",
      "Name: Weighted Discount, dtype: float64\n"
     ]
    }
   ],
   "source": [
    "df['Weighted Discount'] = df['Discount Offered (%)'] * (df['Revenue'] / df['Revenue'].sum())\n",
    "weighted_avg_discount = df.groupby('Salesperson')['Weighted Discount'].sum()\n",
    "\n",
    "print(\"Weighted Average Discount Offered by Each Salesperson:\")\n",
    "print(weighted_avg_discount)\n"
   ]
  },
  {
   "cell_type": "markdown",
   "id": "b0f0afb1",
   "metadata": {},
   "source": [
    "### 19. What percentage of the total revenue does each region contribute?"
   ]
  },
  {
   "cell_type": "code",
   "execution_count": 20,
   "id": "4af6a213",
   "metadata": {},
   "outputs": [
    {
     "name": "stdout",
     "output_type": "stream",
     "text": [
      "Percentage of Total Revenue Contributed by Each Region:\n",
      "Region\n",
      "East     19.437340\n",
      "North    25.063939\n",
      "South    25.575448\n",
      "West     29.923274\n",
      "Name: Revenue, dtype: float64\n"
     ]
    }
   ],
   "source": [
    "region_revenue_percentage = (df.groupby('Region')['Revenue'].sum() / df['Revenue'].sum()) * 100\n",
    "print(\"Percentage of Total Revenue Contributed by Each Region:\")\n",
    "print(region_revenue_percentage)"
   ]
  },
  {
   "cell_type": "code",
   "execution_count": null,
   "id": "346293f3",
   "metadata": {},
   "outputs": [],
   "source": []
  }
 ],
 "metadata": {
  "kernelspec": {
   "display_name": "Python 3 (ipykernel)",
   "language": "python",
   "name": "python3"
  },
  "language_info": {
   "codemirror_mode": {
    "name": "ipython",
    "version": 3
   },
   "file_extension": ".py",
   "mimetype": "text/x-python",
   "name": "python",
   "nbconvert_exporter": "python",
   "pygments_lexer": "ipython3",
   "version": "3.9.12"
  }
 },
 "nbformat": 4,
 "nbformat_minor": 5
}
